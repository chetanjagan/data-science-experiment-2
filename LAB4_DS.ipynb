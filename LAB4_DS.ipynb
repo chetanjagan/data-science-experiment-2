{
  "nbformat": 4,
  "nbformat_minor": 0,
  "metadata": {
    "colab": {
      "provenance": []
    },
    "kernelspec": {
      "name": "python3",
      "display_name": "Python 3"
    },
    "language_info": {
      "name": "python"
    }
  },
  "cells": [
    {
      "cell_type": "code",
      "execution_count": 1,
      "metadata": {
        "id": "nlFzMfSsCic6"
      },
      "outputs": [],
      "source": [
        "import pandas as pd\n",
        "import numpy as np\n",
        "from scipy import stats\n",
        "import io"
      ]
    },
    {
      "cell_type": "code",
      "source": [
        "# CSV data for t-test\n",
        "t_test_csv = \"\"\"Employee,Salary\n",
        "1,52000\n",
        "2,48000\n",
        "3,50500\n",
        "4,53500\n",
        "5,51000\n",
        "6,49500\n",
        "7,54000\n",
        "8,50000\n",
        "9,52500\n",
        "10,51500\"\"\"\n",
        "\n",
        "#  T-test for small sample dataset\n",
        "# Load t-test data\n",
        "t_data = pd.read_csv(io.StringIO(t_test_csv))\n",
        "salaries_t = t_data['Salary']\n",
        "industry_standard = 50000\n",
        "alpha = 0.05"
      ],
      "metadata": {
        "id": "bLoJU6AsCszD"
      },
      "execution_count": 2,
      "outputs": []
    },
    {
      "cell_type": "code",
      "source": [
        "# Calculate sample statistics\n",
        "sample_mean_t = salaries_t.mean()\n",
        "sample_std_t = salaries_t.std(ddof=1)  # ddof=1 for sample standard deviation\n",
        "n_t = len(salaries_t)"
      ],
      "metadata": {
        "id": "IMplsbOMCxyq"
      },
      "execution_count": 3,
      "outputs": []
    },
    {
      "cell_type": "code",
      "source": [
        "print(\"T-test Results:\")\n",
        "print(f\"Sample Mean: {sample_mean_t:.2f}\")\n",
        "print(f\"Sample Standard Deviation: {sample_std_t:.2f}\")\n",
        "print(f\"Sample Size: {n_t}\")"
      ],
      "metadata": {
        "colab": {
          "base_uri": "https://localhost:8080/"
        },
        "id": "nSfqueHiC7lp",
        "outputId": "39c4f54d-eb70-401f-827e-06d3bf27975d"
      },
      "execution_count": 4,
      "outputs": [
        {
          "output_type": "stream",
          "name": "stdout",
          "text": [
            "T-test Results:\n",
            "Sample Mean: 51250.00\n",
            "Sample Standard Deviation: 1844.66\n",
            "Sample Size: 10\n"
          ]
        }
      ]
    },
    {
      "cell_type": "code",
      "source": [
        "# Two-tailed t-test: H0: μ = 50000 vs H1: μ ≠ 50000\n",
        "t_stat_two, p_value_two = stats.ttest_1samp(salaries_t, popmean=industry_standard)\n",
        "print(\"\\nTwo-tailed t-test:\")\n",
        "print(f\"t-statistic: {t_stat_two:.4f}\")\n",
        "print(f\"p-value: {p_value_two:.4f}\")\n",
        "if p_value_two < alpha:\n",
        "    print(\"Reject H0: The average salary differs from $50,000.\")\n",
        "else:\n",
        "    print(\"Fail to reject H0: No evidence that the average salary differs from $50,000.\")"
      ],
      "metadata": {
        "colab": {
          "base_uri": "https://localhost:8080/"
        },
        "id": "1IYZLBMzC-Dt",
        "outputId": "91501c94-dade-42bc-c489-c10100b7dc22"
      },
      "execution_count": 5,
      "outputs": [
        {
          "output_type": "stream",
          "name": "stdout",
          "text": [
            "\n",
            "Two-tailed t-test:\n",
            "t-statistic: 2.1429\n",
            "p-value: 0.0607\n",
            "Fail to reject H0: No evidence that the average salary differs from $50,000.\n"
          ]
        }
      ]
    },
    {
      "cell_type": "code",
      "source": [
        "# One-tailed t-test: H0: μ >= 50000 vs H1: μ < 50000\n",
        "p_value_one = p_value_two / 2 if t_stat_two < 0 else 1 - (p_value_two / 2)\n",
        "print(\"\\nOne-tailed t-test (less than):\")\n",
        "print(f\"t-statistic: {t_stat_two:.4f}\")\n",
        "print(f\"p-value: {p_value_one:.4f}\")\n",
        "if p_value_one < alpha and t_stat_two < 0:\n",
        "    print(\"Reject H0: The average salary is less than $50,000.\")\n",
        "else:\n",
        "    print(\"Fail to reject H0: No evidence that the average salary is less than $50,000.\")"
      ],
      "metadata": {
        "colab": {
          "base_uri": "https://localhost:8080/"
        },
        "id": "Ta7JguN1DDFl",
        "outputId": "cecddf61-b64e-4979-82d0-981da35a94bb"
      },
      "execution_count": 6,
      "outputs": [
        {
          "output_type": "stream",
          "name": "stdout",
          "text": [
            "\n",
            "One-tailed t-test (less than):\n",
            "t-statistic: 2.1429\n",
            "p-value: 0.9696\n",
            "Fail to reject H0: No evidence that the average salary is less than $50,000.\n"
          ]
        }
      ]
    },
    {
      "cell_type": "code",
      "source": [
        "#Z-test for large sample dataset\n",
        "\n",
        "# CSV data for Z-test\n",
        "z_test_csv = \"\"\"Employee,Salary\n",
        "1,51000\n",
        "2,52000\n",
        "3,49500\n",
        "4,50500\n",
        "5,50000\n",
        "6,51500\n",
        "7,49000\n",
        "8,52500\n",
        "9,53000\n",
        "10,50000\n",
        "11,51000\n",
        "12,49500\n",
        "13,50500\n",
        "14,50000\n",
        "15,51500\n",
        "16,49000\n",
        "17,52500\n",
        "18,53000\n",
        "19,50000\n",
        "20,51000\n",
        "21,52000\n",
        "22,49500\n",
        "23,50500\n",
        "24,50000\n",
        "25,51500\n",
        "26,49000\n",
        "27,52500\n",
        "28,53000\n",
        "29,50000\n",
        "30,51000\"\"\"\n",
        "# Load Z-test data\n",
        "z_data = pd.read_csv(io.StringIO(z_test_csv))\n",
        "salaries_z = z_data['Salary']\n",
        "pop_std = 2500  # Known population standard deviation\n",
        "n_z = len(salaries_z)"
      ],
      "metadata": {
        "id": "l5OgqpipDIiG"
      },
      "execution_count": 7,
      "outputs": []
    },
    {
      "cell_type": "code",
      "source": [
        "# Calculate sample mean\n",
        "sample_mean_z = salaries_z.mean()\n",
        "\n",
        "print(\"\\nZ-test Results:\")\n",
        "print(f\"Sample Mean: {sample_mean_z:.2f}\")\n",
        "print(f\"Population Standard Deviation: {pop_std}\")\n",
        "print(f\"Sample Size: {n_z}\")"
      ],
      "metadata": {
        "colab": {
          "base_uri": "https://localhost:8080/"
        },
        "id": "mRXvRPUtDQ7q",
        "outputId": "6a660284-6811-4a71-9969-21ff065771db"
      },
      "execution_count": 8,
      "outputs": [
        {
          "output_type": "stream",
          "name": "stdout",
          "text": [
            "\n",
            "Z-test Results:\n",
            "Sample Mean: 50866.67\n",
            "Population Standard Deviation: 2500\n",
            "Sample Size: 30\n"
          ]
        }
      ]
    },
    {
      "cell_type": "code",
      "source": [
        "# Two-tailed Z-test: H0: μ = 50000 vs H1: μ ≠ 50000\n",
        "z_stat = (sample_mean_z - industry_standard) / (pop_std / np.sqrt(n_z))\n",
        "p_value_two_z = 2 * (1 - stats.norm.cdf(abs(z_stat)))\n",
        "print(\"\\nTwo-tailed Z-test:\")\n",
        "print(f\"Z-statistic: {z_stat:.4f}\")\n",
        "print(f\"p-value: {p_value_two_z:.4f}\")\n",
        "if p_value_two_z < alpha:\n",
        "    print(\"Reject H0: The average salary differs from $50,000.\")\n",
        "else:\n",
        "    print(\"Fail to reject H0: No evidence that the average salary differs from $50,000.\")"
      ],
      "metadata": {
        "colab": {
          "base_uri": "https://localhost:8080/"
        },
        "id": "v3OXgFtsDUiw",
        "outputId": "daa448df-e24d-49c1-ac2d-c285ccfcada8"
      },
      "execution_count": 9,
      "outputs": [
        {
          "output_type": "stream",
          "name": "stdout",
          "text": [
            "\n",
            "Two-tailed Z-test:\n",
            "Z-statistic: 1.8988\n",
            "p-value: 0.0576\n",
            "Fail to reject H0: No evidence that the average salary differs from $50,000.\n"
          ]
        }
      ]
    },
    {
      "cell_type": "code",
      "source": [
        "# One-tailed Z-test: H0: μ <= 50000 vs H1: μ > 50000\n",
        "p_value_one_z = 1 - stats.norm.cdf(z_stat)\n",
        "print(\"\\nOne-tailed Z-test (greater than):\")\n",
        "print(f\"Z-statistic: {z_stat:.4f}\")\n",
        "print(f\"p-value: {p_value_one_z:.4f}\")\n",
        "if p_value_one_z < alpha and z_stat > 0:\n",
        "    print(\"Reject H0: The average salary is greater than $50,000.\")\n",
        "else:\n",
        "    print(\"Fail to reject H0: No evidence that the average salary is greater than $50,000.\")"
      ],
      "metadata": {
        "colab": {
          "base_uri": "https://localhost:8080/"
        },
        "id": "1USYPqJqDYqS",
        "outputId": "c16c413e-8a84-4c66-a9b6-8efe496b6998"
      },
      "execution_count": 10,
      "outputs": [
        {
          "output_type": "stream",
          "name": "stdout",
          "text": [
            "\n",
            "One-tailed Z-test (greater than):\n",
            "Z-statistic: 1.8988\n",
            "p-value: 0.0288\n",
            "Reject H0: The average salary is greater than $50,000.\n"
          ]
        }
      ]
    }
  ]
}